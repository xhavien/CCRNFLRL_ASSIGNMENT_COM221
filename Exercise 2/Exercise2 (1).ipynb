{
  "nbformat": 4,
  "nbformat_minor": 0,
  "metadata": {
    "colab": {
      "provenance": []
    },
    "kernelspec": {
      "name": "python3",
      "display_name": "Python 3"
    },
    "language_info": {
      "name": "python"
    }
  },
  "cells": [
    {
      "cell_type": "markdown",
      "source": [
        "# Exercise 2"
      ],
      "metadata": {
        "id": "gh4_1T3XTRg6"
      }
    },
    {
      "cell_type": "code",
      "source": [
        "from math import sqrt, log\n",
        "import pandas as pd"
      ],
      "metadata": {
        "id": "-6zwzOH0TMq0"
      },
      "execution_count": 230,
      "outputs": []
    },
    {
      "cell_type": "markdown",
      "source": [
        "## Step 1: Enter your data\n",
        "\n",
        "Add a new row after each pull: Pull number, Machine played (\"A\", \"B\", \"C\"), and Reward earned."
      ],
      "metadata": {
        "id": "kZCcIK8dTkot"
      }
    },
    {
      "cell_type": "code",
      "source": [
        "data = pd.DataFrame({\n",
        "    \"Pull\": [1, 2, 3, 4, 5, 6, 7, 8, 9, 10, 11, 12, 13, 14, 15, 16, 17, 18, 19, 20, 21, 22, 23, 24, 25, 26, 27,\n",
        "             28, 29, 30, 31, 32, 33, 34, 35, 36, 37, 38, 39, 40, 41, 42, 43, 44, 45, 46, 47, 48, 49, 50],          # Pull number\n",
        "    \"Machine\": [\"A\", \"B\", \"C\", \"C\", \"C\", \"C\", \"C\", \"C\", \"C\", \"C\", \"C\", \"C\", \"C\", \"C\", \"C\", \"C\", \"C\", \"C\", \"C\", \"C\", \"C\", \"C\", \"C\", \"C\", \"C\", \"C\", \"C\",\n",
        "    \"C\", \"C\", \"C\", \"C\", \"C\", \"C\", \"C\", \"C\", \"C\", \"C\", \"C\", \"C\", \"C\", \"C\", \"C\", \"C\", \"C\", \"C\",\"C\", \"C\", \"C\", \"C\", \"C\"], # Which machine was played\n",
        "    \"Reward\": [0, 0, 30, 0, 0, 0, 0, 0, 10, 30, 2, 0, 0, 5, 5, 0, 0, 5, 0, 5, 0, 2, 0, 0, 0, 0, 0,\n",
        "               0, 0, 15, 0, 0, 0, 0, 0, 15, 0, 0, 6, 2, 0, 5, 2, 0, 0, 5, 0, 0, 10, 0]         # Reward received from that machine\n",
        "})"
      ],
      "metadata": {
        "id": "_XJg9sNjTP9s"
      },
      "execution_count": 231,
      "outputs": []
    },
    {
      "cell_type": "markdown",
      "source": [
        "# Step 2: Calculate UCB"
      ],
      "metadata": {
        "id": "9pAruytjTt-b"
      }
    },
    {
      "cell_type": "code",
      "execution_count": 232,
      "metadata": {
        "id": "7iyebQ41S3pA"
      },
      "outputs": [],
      "source": [
        "def calculate_ucb(df):\n",
        "    results = []\n",
        "    total_pulls = len(df)\n",
        "    machines = sorted(df[\"Machine\"].unique())\n",
        "\n",
        "    for machine in machines:\n",
        "        machine_data = df[df[\"Machine\"] == machine]\n",
        "        n_j = len(machine_data)\n",
        "        avg_reward = machine_data[\"Reward\"].mean()\n",
        "        exploration_bonus = sqrt((2 * log(total_pulls)) / n_j) if n_j > 0 else float(\"inf\")\n",
        "        ucb_score = avg_reward + exploration_bonus\n",
        "        results.append({\n",
        "            \"Machine\": machine,\n",
        "            \"Pulls\": n_j,\n",
        "            \"Avg Reward\": round(avg_reward, 2),\n",
        "            \"Exploration Bonus\": round(exploration_bonus, 4),\n",
        "            \"UCB Score\": round(ucb_score, 4)\n",
        "        })\n",
        "    return pd.DataFrame(results).sort_values(by=\"UCB Score\", ascending=False)"
      ]
    },
    {
      "cell_type": "markdown",
      "source": [
        "\n",
        "# Step 3: Calculate and display\n"
      ],
      "metadata": {
        "id": "GmVaGjpdT4eA"
      }
    },
    {
      "cell_type": "code",
      "source": [
        "ucb_table = calculate_ucb(data)\n",
        "print(\"📊 UCB Results Table\")\n",
        "print(ucb_table)"
      ],
      "metadata": {
        "colab": {
          "base_uri": "https://localhost:8080/"
        },
        "id": "ZXBIvOEVTVND",
        "outputId": "4024d03d-9ece-4682-f4ba-16da8b3e7d8f"
      },
      "execution_count": 233,
      "outputs": [
        {
          "output_type": "stream",
          "name": "stdout",
          "text": [
            "📊 UCB Results Table\n",
            "  Machine  Pulls  Avg Reward  Exploration Bonus  UCB Score\n",
            "2       C     48        3.21             0.4037     3.6121\n",
            "0       A      1        0.00             2.7971     2.7971\n",
            "1       B      1        0.00             2.7971     2.7971\n"
          ]
        }
      ]
    },
    {
      "cell_type": "markdown",
      "source": [
        "# Step 4: Next machine suggestion"
      ],
      "metadata": {
        "id": "YURFdhQmUCjl"
      }
    },
    {
      "cell_type": "code",
      "source": [
        "best_machine = ucb_table.iloc[0][\"Machine\"]\n",
        "print(f\"\\n🎯 Recommended next machine to play: {best_machine}\")"
      ],
      "metadata": {
        "colab": {
          "base_uri": "https://localhost:8080/"
        },
        "id": "XufYOkGET_l-",
        "outputId": "02e72549-4f93-4611-a123-cb4ae4ac24d4"
      },
      "execution_count": 234,
      "outputs": [
        {
          "output_type": "stream",
          "name": "stdout",
          "text": [
            "\n",
            "🎯 Recommended next machine to play: C\n"
          ]
        }
      ]
    },
    {
      "cell_type": "markdown",
      "source": [
        "Reflection: Out of 50 pulls, Machine C gives the highest rewards among the rest.\n"
      ],
      "metadata": {
        "id": "OhQ0PYjzTxph"
      }
    }
  ]
}